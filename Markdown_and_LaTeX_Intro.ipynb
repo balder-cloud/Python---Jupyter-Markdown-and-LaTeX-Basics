{
 "cells": [
  {
   "cell_type": "markdown",
   "metadata": {},
   "source": [
    "# <center>Intro to Markdown Basics and LaTeX<center>\n",
    "## <center>September 2020<center>\n",
    "### <center>Baldomero Pena<center>"
   ]
  },
  {
   "cell_type": "markdown",
   "metadata": {},
   "source": [
    "The purpose of this document is to cover in a brief and concise manner the basic commands for regular text and math symbols. <br>\n",
    "Therefore, we divide the file in 2 parts:<br>\n",
    " - Markdown Basics\n",
    " - LATEX Mathematical Symbols  \n",
    " \n",
    "Please note at the bottom of this document the references are available for installation and further exploration."
   ]
  },
  {
   "cell_type": "markdown",
   "metadata": {},
   "source": [
    "## Markdown Basics "
   ]
  },
  {
   "cell_type": "markdown",
   "metadata": {},
   "source": [
    "**Hello Wolrd!** <br> *How are you?* <p>\n",
    "The pourpose of this text is to **show already some _commands_** while you are reading ~~this.~~ it.  \n",
    "     \n",
    "So far  \n",
    "***\n",
    "we just\n",
    "____\n",
    "saw:\n",
    "----\n",
    "\n",
    "    \n",
    "1. Headings \n",
    "2. Line Break \n",
    "3. Paragraph\n",
    "4. Mark emphasis\n",
    "    - *Italics*\n",
    "    - **Bold**\n",
    "    - **Combined _emphasis_**\n",
    "    - ~~Striketrough.~~\n",
    "5. Horizontal rule\n",
    "    - (***)\n",
    "    - (___)\n",
    "    - (---)\n",
    "\n",
    "And you just saw a list, and below another one with the content to follow:\n",
    "\n",
    "* LaTeX\n",
    " - Greek letters\n",
    " - Math constructs\n",
    "      * fractions\n",
    "      * overline\n",
    "      * overarrow\n",
    " - Combo\n",
    "     - Symbols\n",
    "     - Standard Function Names\n",
    "     - Functions\n",
    "     - Binary Operation Symbols\n",
    "     - Array environment\n",
    "    "
   ]
  },
  {
   "cell_type": "markdown",
   "metadata": {},
   "source": [
    "## LaTex for Maths "
   ]
  },
  {
   "cell_type": "markdown",
   "metadata": {},
   "source": [
    "### Greek Letters "
   ]
  },
  {
   "cell_type": "markdown",
   "metadata": {},
   "source": [
    "$ \\alpha $\n",
    "$\\beta$\n",
    "$$\\chi$$\n",
    "$$ \\eta $$\n",
    "$\\delta$ and $\\Delta$\n",
    "$$\\gamma$$ and $$\\Gamma$$\n",
    "\n",
    "$$\\phi$$ <center>and<center> $$\\Phi$$\n",
    "$$\\pi$$ $$and$$ $$\\Pi$$"
   ]
  },
  {
   "cell_type": "markdown",
   "metadata": {},
   "source": [
    "### Math Constructs "
   ]
  },
  {
   "cell_type": "markdown",
   "metadata": {},
   "source": [
    "$\\frac{4}{2}$\n",
    "$$ \\sqrt{42x} $$\n",
    "$ \\sqrt[4]{42x} $"
   ]
  },
  {
   "cell_type": "markdown",
   "metadata": {},
   "source": [
    "$$ \\sqrt[2]{(x_2 - x_1)^{2} + (y_2 - y_1)^{2}} $$"
   ]
  },
  {
   "cell_type": "markdown",
   "metadata": {},
   "source": [
    "the vector $\\overline{v}$  \n",
    "and the vector $\\overrightarrow{u}$"
   ]
  },
  {
   "cell_type": "markdown",
   "metadata": {},
   "source": [
    "### Combo"
   ]
  },
  {
   "cell_type": "markdown",
   "metadata": {},
   "source": [
    "Newton's method:\n",
    "$$ y= \\dfrac{(x + a/x)}{2} $$"
   ]
  },
  {
   "cell_type": "markdown",
   "metadata": {},
   "source": [
    "Stochastic differential equation (SDE):\n",
    "$$ 𝑑𝑆_𝑡=𝑟𝑆_𝑡𝑑𝑡 + σ𝑆_𝑡𝑑𝑍_𝑡 $$  \n",
    "Applying Euler discretization of SDE:\n",
    "$$ 𝑆_𝑡=𝑆_{𝑡−Δ𝑡}𝑒𝑥𝑝^{((𝑟−\\frac{1}{2}𝜎^2)Δ𝑡+𝜎\\sqrt[2]{Δ𝑡}𝑧𝑡)} $$"
   ]
  },
  {
   "cell_type": "markdown",
   "metadata": {},
   "source": [
    "A vector: <p>\n",
    "$ \\vec{v} = \\left(\\begin{array}{c} 1 \\\\ 2 \\\\ . \\\\ . \\\\ . \\\\ 100 \\end{array} \\right) $ <p>\n",
    "The scalar multiplication of this vector: <p>\n",
    "$ \\vec{u}=2\\cdot \\vec{v} = \\left(\\begin{array}{c} 2 \\\\ 4 \\\\ . \\\\ . \\\\ . \\\\ 200 \\end{array} \\right) $    \n",
    "    "
   ]
  },
  {
   "cell_type": "markdown",
   "metadata": {},
   "source": [
    "$ \\left(\\begin{array}{ccc} 2&4&6 \\\\ 8&10&12 \\\\  \\end{array} \\right) $ "
   ]
  },
  {
   "cell_type": "markdown",
   "metadata": {},
   "source": [
    "$\\left[ \\begin{array}{ccc|r} 2 & 4 & 6 & 42 \\\\ 1 & 3 & 5 & 11 \\\\ 5 & 11 & 13 & 1764 \\end{array} \\right]$"
   ]
  },
  {
   "cell_type": "markdown",
   "metadata": {},
   "source": [
    "$$\n",
    "sign(x) = \\left\\{\n",
    "    \\begin{array}\\\\\n",
    "        1 & \\mbox{if } \\ x \\in \\mathbf{N}^* \\\\\n",
    "        0 & \\mbox{if } \\ x = 0 \\\\\n",
    "        -1 & \\mbox{else}\n",
    "    \\end{array}\n",
    "\\right.\n",
    "$$"
   ]
  },
  {
   "cell_type": "markdown",
   "metadata": {},
   "source": [
    "$$ N(x) = \\frac{1}{\\sqrt{2\\pi}}\\int^{x}_{-\\infty}e^{-\\frac{1}{2}x^2}dx $$"
   ]
  },
  {
   "cell_type": "markdown",
   "metadata": {},
   "source": [
    "$$ 𝐶_𝑇=𝑚𝑎𝑥(0,\\frac{1}{𝑇}\\sum_{i=1}^{T}𝑆_𝑖−𝐾) $$"
   ]
  },
  {
   "cell_type": "markdown",
   "metadata": {},
   "source": [
    "$$ \\frac{\\partial V}{\\partial t} = \\lim_{h\\rightarrow0}\\frac{V(S, t + h) - V(S,t)}{h} $$"
   ]
  },
  {
   "cell_type": "markdown",
   "metadata": {},
   "source": [
    "$$ \\frac{\\partial V}{\\partial t}(S,t) \\approx \\frac{V^k_i - V^{k+1}_i}{\\delta t} $$"
   ]
  },
  {
   "cell_type": "markdown",
   "metadata": {},
   "source": [
    "$$ \\frac{\\partial V}{\\partial t}+ \\frac{1}{2}\\sigma^2S^2\\frac{\\partial ^2V}{\\partial S^2} +rs\\frac{\\partial V}{\\partial S} - rV = 0 $$"
   ]
  },
  {
   "cell_type": "markdown",
   "metadata": {},
   "source": [
    "$$ \\Theta + \\frac{1}{2} + \\sigma^2S^2\\Gamma + rS\\Delta - rV = 0 $$"
   ]
  },
  {
   "cell_type": "markdown",
   "metadata": {},
   "source": [
    "## References"
   ]
  },
  {
   "cell_type": "markdown",
   "metadata": {},
   "source": [
    "- [Installation](https://www.latex-project.org/get/)\n",
    "    - Useful links if your OS is Windows:\n",
    "        * [Install nbconvert](https://nbconvert.readthedocs.io/en/latest/install.html)\n",
    "        * [Install Miktex](https://miktex.org/download)\n",
    "        * [Install XeLaTeX](http://www.texts.io/support/0002/)\n",
    "- [Learn How to Write Markdown & LaTeX in The Jupyter Notebook](https://towardsdatascience.com/write-markdown-latex-in-the-jupyter-notebook-10985edb91fd)\n",
    "- [LaTeX Mathematical Symbols - useful pdf](https://www.caam.rice.edu/~heinken/latex/symbols.pdf)"
   ]
  }
 ],
 "metadata": {
  "kernelspec": {
   "display_name": "Python 3",
   "language": "python",
   "name": "python3"
  },
  "language_info": {
   "codemirror_mode": {
    "name": "ipython",
    "version": 3
   },
   "file_extension": ".py",
   "mimetype": "text/x-python",
   "name": "python",
   "nbconvert_exporter": "python",
   "pygments_lexer": "ipython3",
   "version": "3.7.0"
  }
 },
 "nbformat": 4,
 "nbformat_minor": 2
}
